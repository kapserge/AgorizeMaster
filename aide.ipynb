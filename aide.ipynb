{
  "nbformat": 4,
  "nbformat_minor": 0,
  "metadata": {
    "colab": {
      "name": "Untitled8.ipynb",
      "provenance": [],
      "authorship_tag": "ABX9TyNOBs2Berx+B3EujujESpbC",
      "include_colab_link": true
    },
    "kernelspec": {
      "name": "python3",
      "display_name": "Python 3"
    },
    "language_info": {
      "name": "python"
    }
  },
  "cells": [
    {
      "cell_type": "markdown",
      "metadata": {
        "id": "view-in-github",
        "colab_type": "text"
      },
      "source": [
        "<a href=\"https://colab.research.google.com/github/kapserge/AgorizeMaster/blob/master/aide.ipynb\" target=\"_parent\"><img src=\"https://colab.research.google.com/assets/colab-badge.svg\" alt=\"Open In Colab\"/></a>"
      ]
    },
    {
      "cell_type": "code",
      "execution_count": null,
      "metadata": {
        "id": "9afIb9oSMZZz",
        "colab": {
          "base_uri": "https://localhost:8080/"
        },
        "outputId": "8a6f631f-e76d-46a6-9f07-8652460e99f8"
      },
      "outputs": [
        {
          "output_type": "stream",
          "name": "stdout",
          "text": [
            "['treefive', 1, 2, 'tree', 4, 'five', 'tree', 7, 8, 'tree', 'five', 11, 'tree', 13, 14, 'treefive', 16, 17, 'tree', 19, 'five', 'tree', 22, 23, 'tree', 'five', 26, 'tree', 28, 29, 'treefive', 31, 32, 'tree', 34, 'five', 'tree', 37, 38, 'tree', 'five', 41, 'tree', 43, 44, 'treefive', 46, 47, 'tree', 49, 'five', 'tree', 52, 53, 'tree', 'five', 56, 'tree', 58, 59, 'treefive', 61, 62, 'tree', 64, 'five', 'tree', 67, 68, 'tree', 'five', 71, 'tree', 73, 74, 'treefive', 76, 77, 'tree', 79, 'five', 'tree', 82, 83, 'tree', 'five', 86, 'tree', 88, 89, 'treefive', 91, 92, 'tree', 94, 'five', 'tree', 97, 98, 'tree']\n"
          ]
        }
      ],
      "source": [
        "def ex():\n",
        "  l= list(range(100))\n",
        "\n",
        "  for i, n in enumerate(l):\n",
        "    if i%3 == 0:\n",
        "      l[i] = 'tree'\n",
        "    if i%5 == 0:\n",
        "      l[i] = 'five'\n",
        "    if i%5 == 0 and i%3 == 0:\n",
        "      l[i] = 'treefive'\n",
        "  print(l)\n",
        "ex()"
      ]
    },
    {
      "cell_type": "code",
      "source": [
        "def calsum(l):\n",
        "    \n",
        "    # returning sum of list using List comprehension\n",
        "    r = [x for x in l if not isinstance(x, int)]\n",
        "    \n",
        "    return  sum([int(i) for i in r if type(i)== int or i.isdigit()])\n",
        "\n",
        "  \n",
        "# Result of sum of list\n",
        "calsum('54')\n"
      ],
      "metadata": {
        "colab": {
          "base_uri": "https://localhost:8080/"
        },
        "id": "XOvN0dB5HM0W",
        "outputId": "c3881386-0c77-4034-e338-7baeaac7ac9b"
      },
      "execution_count": null,
      "outputs": [
        {
          "output_type": "execute_result",
          "data": {
            "text/plain": [
              "9"
            ]
          },
          "metadata": {},
          "execution_count": 9
        }
      ]
    },
    {
      "cell_type": "code",
      "source": [
        "from itertools import groupby\n",
        "def anagrams(a,b): \n",
        "  listA = []\n",
        "  sorted_defaultword = sorted(b[0])\n",
        "  print (sorted_defaultword)\n",
        "  for i in range (len(a)):\n",
        "      #print(a[i])\n",
        "      sorted_word = sorted(a[i])\n",
        "      #print (sorted_word)\n",
        "      if (sorted_word == sorted_defaultword):\n",
        "          listA.append(a[i])\n",
        "  \n",
        "  return listA\n",
        "anagrams('abba', ['aabb', 'abcd', 'bbaa', 'dada'])  \n",
        "      "
      ],
      "metadata": {
        "colab": {
          "base_uri": "https://localhost:8080/"
        },
        "id": "TpZsMm3Tpw8E",
        "outputId": "01ae7569-c674-486d-9498-388c852a8dd9"
      },
      "execution_count": null,
      "outputs": [
        {
          "output_type": "stream",
          "name": "stdout",
          "text": [
            "['a', 'a', 'b', 'b']\n"
          ]
        },
        {
          "output_type": "execute_result",
          "data": {
            "text/plain": [
              "[]"
            ]
          },
          "metadata": {},
          "execution_count": 28
        }
      ]
    },
    {
      "cell_type": "code",
      "source": [
        "def anagrams(word, words):\n",
        "    return [i for i in words if set(i) == set(word) and len(i) == len(word)]\n",
        "\n",
        "#anagrams('abba', ['aabb', 'abcd', 'bbaa', 'dada'])\n",
        "anagrams('racer', ['crazer', 'carer', 'racar', 'caers', 'racer']) \n",
        "#anagrams('laser', ['lazing', 'lazy',  'lacer'])\n"
      ],
      "metadata": {
        "colab": {
          "base_uri": "https://localhost:8080/"
        },
        "id": "ixakoPpdm2tt",
        "outputId": "ad15d707-48f7-44af-a21d-da61c1aa85af"
      },
      "execution_count": null,
      "outputs": [
        {
          "output_type": "execute_result",
          "data": {
            "text/plain": [
              "['carer', 'racer']"
            ]
          },
          "metadata": {},
          "execution_count": 32
        }
      ]
    },
    {
      "cell_type": "code",
      "source": [
        "\n",
        "a = ['aabb', 'abcd', 'bbaa', 'dada']\n",
        "b = ['abab']\n",
        "listA = []\n",
        "sorted_defaultword = sorted(b[0])\n",
        "print (sorted_defaultword)\n",
        "for i in range (len(a)):\n",
        "    #print(a[i])\n",
        "    sorted_word = sorted(a[i])\n",
        "    #print (sorted_word)\n",
        "    if (sorted_word == sorted_defaultword):\n",
        "        listA.append(a[i])\n",
        "print (listA)\n"
      ],
      "metadata": {
        "colab": {
          "base_uri": "https://localhost:8080/"
        },
        "id": "GNamkh6LjcQP",
        "outputId": "2e71daae-b777-4f25-b98b-13dff550fc26"
      },
      "execution_count": null,
      "outputs": [
        {
          "output_type": "stream",
          "name": "stdout",
          "text": [
            "['a', 'a', 'b', 'b']\n",
            "['aabb', 'bbaa']\n"
          ]
        }
      ]
    },
    {
      "cell_type": "code",
      "source": [
        "def sum_mix(arr):\n",
        "    sumIntStr = sum(map(int, arr))\n",
        "    return sumIntStr\n",
        "sum_mix(['0', 3, '8', 2, '1'])"
      ],
      "metadata": {
        "colab": {
          "base_uri": "https://localhost:8080/"
        },
        "id": "NGmKrSI-a482",
        "outputId": "77566ffc-41ee-408f-a1b4-07c42476d3db"
      },
      "execution_count": null,
      "outputs": [
        {
          "output_type": "execute_result",
          "data": {
            "text/plain": [
              "14"
            ]
          },
          "metadata": {},
          "execution_count": 59
        }
      ]
    },
    {
      "cell_type": "code",
      "source": [
        "from numpy import prod\n",
        "def is_colorful(n):\n",
        "   return (\n",
        "       lambda x:len(x)==len(set(x)))([prod([int(d) for d in t]) for t in [str(n)[i:j] for i in range(len(str(n))) for j in range(i+1, len(str(n))+1)]])\n",
        "\n",
        "is_colorful(643)\n"
      ],
      "metadata": {
        "colab": {
          "base_uri": "https://localhost:8080/"
        },
        "id": "wQoDLcQJ1v_H",
        "outputId": "97c30dfa-b9ac-4f9a-fdf9-637193bcc968"
      },
      "execution_count": null,
      "outputs": [
        {
          "output_type": "execute_result",
          "data": {
            "text/plain": [
              "True"
            ]
          },
          "metadata": {},
          "execution_count": 1
        }
      ]
    },
    {
      "cell_type": "code",
      "source": [
        "from random import seed\n",
        "from random import randint\n",
        "def ale():\n",
        "  for _ in range(5):\n",
        "    value = randint(1,6)\n",
        "    if value == 5:\n",
        "      value ='5 yams'\n",
        "    elif value == 2:\n",
        "      value ='2 paire'\n",
        "    elif value == 3:\n",
        "      value ='3 brelan'\n",
        "    print(value)\n",
        "ale()"
      ],
      "metadata": {
        "colab": {
          "base_uri": "https://localhost:8080/"
        },
        "id": "sdNZUQ9FW1fm",
        "outputId": "a44d7d3c-a272-4cdb-caa7-9491e680eb28"
      },
      "execution_count": null,
      "outputs": [
        {
          "output_type": "stream",
          "name": "stdout",
          "text": [
            "6\n",
            "2 paire\n",
            "3 brelan\n",
            "3 brelan\n",
            "5 yams\n"
          ]
        }
      ]
    },
    {
      "cell_type": "code",
      "source": [
        "from math import pow\n",
        "n=412\n",
        "s=str(n)\n",
        "V =[]\n",
        "for i,n in enumerate(s):\n",
        "  r = int(str(n))\n",
        "  print(r) \n",
        "  V.append(r)\n",
        "  for g in V:\n",
        "    V = V + [g**2]\n",
        "  \n",
        "#print(sum(map(int, str(s))))\n"
      ],
      "metadata": {
        "colab": {
          "base_uri": "https://localhost:8080/"
        },
        "id": "wgFDIfbdbAeC",
        "outputId": "12eca39e-06d7-4b0e-a065-34ba78af290a"
      },
      "execution_count": null,
      "outputs": [
        {
          "output_type": "stream",
          "name": "stdout",
          "text": [
            "4\n",
            "1\n",
            "2\n"
          ]
        }
      ]
    },
    {
      "cell_type": "code",
      "source": [
        "entre = 20\n",
        "n1 =0\n",
        "n2 = 1\n",
        "\n",
        "for i in range(2,entre):\n",
        "  sui = n2 + n1\n",
        "  print(sui, end=\",\")\n",
        "  n1 = n2\n",
        "  n2 = sui"
      ],
      "metadata": {
        "colab": {
          "base_uri": "https://localhost:8080/"
        },
        "id": "cCX-586AeFDK",
        "outputId": "6fca9c90-411b-4f6f-b1c9-67f04ede14b0"
      },
      "execution_count": null,
      "outputs": [
        {
          "output_type": "stream",
          "name": "stdout",
          "text": [
            "1,2,3,5,8,13,21,34,55,89,144,233,377,610,987,1597,2584,4181,"
          ]
        }
      ]
    },
    {
      "cell_type": "code",
      "source": [
        "from random import randint\n",
        "def fr(val):\n",
        "    if val % 2 == 0:\n",
        "      val =\"paire\"\n",
        "    else: val =\"impaire\"\n",
        "    print(val)\n",
        "fr(9)\n",
        "  "
      ],
      "metadata": {
        "colab": {
          "base_uri": "https://localhost:8080/"
        },
        "id": "xvf-79xa-h1-",
        "outputId": "9535f930-0df4-40a5-ce26-68655947a460"
      },
      "execution_count": null,
      "outputs": [
        {
          "output_type": "stream",
          "name": "stdout",
          "text": [
            "impaire\n"
          ]
        }
      ]
    },
    {
      "cell_type": "code",
      "source": [
        "nbr = 10\n",
        "fact = 1\n",
        "for i in range(1, nbr+1):\n",
        "  fact = fact * i\n",
        "print (nbr,'! = ',fact)"
      ],
      "metadata": {
        "colab": {
          "base_uri": "https://localhost:8080/"
        },
        "id": "-Xp2rI7dEW4X",
        "outputId": "5d4fc432-1b7f-405c-f4ae-def9f9acc9e3"
      },
      "execution_count": null,
      "outputs": [
        {
          "output_type": "stream",
          "name": "stdout",
          "text": [
            "10 ! =  3628800\n"
          ]
        }
      ]
    },
    {
      "cell_type": "code",
      "source": [
        "def checkS(str):\n",
        "  return str.endswith('s')\n",
        "print(checkS(\"Thomas\"))"
      ],
      "metadata": {
        "colab": {
          "base_uri": "https://localhost:8080/"
        },
        "id": "gdsvhvzsJipj",
        "outputId": "5e0a88e4-62e9-4959-c9b2-2c50f1d6c619"
      },
      "execution_count": null,
      "outputs": [
        {
          "output_type": "stream",
          "name": "stdout",
          "text": [
            "paire\n"
          ]
        }
      ]
    }
  ]
}